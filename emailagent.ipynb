{
 "cells": [
  {
   "cell_type": "code",
   "execution_count": 172,
   "metadata": {},
   "outputs": [
    {
     "name": "stdout",
     "output_type": "stream",
     "text": [
      "Note: you may need to restart the kernel to use updated packages.\n"
     ]
    }
   ],
   "source": [
    "%pip install -q python-dotenv"
   ]
  },
  {
   "cell_type": "code",
   "execution_count": 173,
   "metadata": {},
   "outputs": [],
   "source": [
    "import os\n",
    "from dotenv import load_dotenv\n",
    "\n",
    "load_dotenv()\n",
    "# Now you can access your API keys securely\n",
    "GROQ_API_KEY = os.getenv(\"GROQ_API_KEY\")\n",
    "TAVILY_API_KEY = os.getenv(\"TAVILY_API_KEY\")\n",
    "LANGCHAIN_API_KEY = os.getenv(\"LANGCHAIN_API_KEY\")\n",
    "LANGCHAIN_TRACING_V2 = os.getenv(\"LANGCHAIN_TRACING_V2\")"
   ]
  },
  {
   "cell_type": "code",
   "execution_count": 174,
   "metadata": {},
   "outputs": [
    {
     "name": "stdout",
     "output_type": "stream",
     "text": [
      "Requirement already satisfied: langchain_groq in /Users/brendanmclaughlin/anaconda3/envs/cs224n/lib/python3.11/site-packages (0.1.3)\n",
      "Requirement already satisfied: groq<1,>=0.4.1 in /Users/brendanmclaughlin/anaconda3/envs/cs224n/lib/python3.11/site-packages (from langchain_groq) (0.5.0)\n",
      "Requirement already satisfied: langchain-core<0.2.0,>=0.1.45 in /Users/brendanmclaughlin/anaconda3/envs/cs224n/lib/python3.11/site-packages (from langchain_groq) (0.1.46)\n",
      "Requirement already satisfied: anyio<5,>=3.5.0 in /Users/brendanmclaughlin/anaconda3/envs/cs224n/lib/python3.11/site-packages (from groq<1,>=0.4.1->langchain_groq) (3.5.0)\n",
      "Requirement already satisfied: distro<2,>=1.7.0 in /Users/brendanmclaughlin/anaconda3/envs/cs224n/lib/python3.11/site-packages (from groq<1,>=0.4.1->langchain_groq) (1.9.0)\n",
      "Requirement already satisfied: httpx<1,>=0.23.0 in /Users/brendanmclaughlin/anaconda3/envs/cs224n/lib/python3.11/site-packages (from groq<1,>=0.4.1->langchain_groq) (0.27.0)\n",
      "Requirement already satisfied: pydantic<3,>=1.9.0 in /Users/brendanmclaughlin/anaconda3/envs/cs224n/lib/python3.11/site-packages (from groq<1,>=0.4.1->langchain_groq) (2.7.1)\n",
      "Requirement already satisfied: sniffio in /Users/brendanmclaughlin/anaconda3/envs/cs224n/lib/python3.11/site-packages (from groq<1,>=0.4.1->langchain_groq) (1.2.0)\n",
      "Requirement already satisfied: typing-extensions<5,>=4.7 in /Users/brendanmclaughlin/anaconda3/envs/cs224n/lib/python3.11/site-packages (from groq<1,>=0.4.1->langchain_groq) (4.7.1)\n",
      "Requirement already satisfied: PyYAML>=5.3 in /Users/brendanmclaughlin/anaconda3/envs/cs224n/lib/python3.11/site-packages (from langchain-core<0.2.0,>=0.1.45->langchain_groq) (6.0.1)\n",
      "Requirement already satisfied: jsonpatch<2.0,>=1.33 in /Users/brendanmclaughlin/anaconda3/envs/cs224n/lib/python3.11/site-packages (from langchain-core<0.2.0,>=0.1.45->langchain_groq) (1.33)\n",
      "Requirement already satisfied: langsmith<0.2.0,>=0.1.0 in /Users/brendanmclaughlin/anaconda3/envs/cs224n/lib/python3.11/site-packages (from langchain-core<0.2.0,>=0.1.45->langchain_groq) (0.1.51)\n",
      "Requirement already satisfied: packaging<24.0,>=23.2 in /Users/brendanmclaughlin/anaconda3/envs/cs224n/lib/python3.11/site-packages (from langchain-core<0.2.0,>=0.1.45->langchain_groq) (23.2)\n",
      "Requirement already satisfied: tenacity<9.0.0,>=8.1.0 in /Users/brendanmclaughlin/anaconda3/envs/cs224n/lib/python3.11/site-packages (from langchain-core<0.2.0,>=0.1.45->langchain_groq) (8.2.3)\n",
      "Requirement already satisfied: idna>=2.8 in /Users/brendanmclaughlin/anaconda3/envs/cs224n/lib/python3.11/site-packages (from anyio<5,>=3.5.0->groq<1,>=0.4.1->langchain_groq) (3.4)\n",
      "Requirement already satisfied: certifi in /Users/brendanmclaughlin/anaconda3/envs/cs224n/lib/python3.11/site-packages (from httpx<1,>=0.23.0->groq<1,>=0.4.1->langchain_groq) (2023.11.17)\n",
      "Requirement already satisfied: httpcore==1.* in /Users/brendanmclaughlin/anaconda3/envs/cs224n/lib/python3.11/site-packages (from httpx<1,>=0.23.0->groq<1,>=0.4.1->langchain_groq) (1.0.5)\n",
      "Requirement already satisfied: h11<0.15,>=0.13 in /Users/brendanmclaughlin/anaconda3/envs/cs224n/lib/python3.11/site-packages (from httpcore==1.*->httpx<1,>=0.23.0->groq<1,>=0.4.1->langchain_groq) (0.14.0)\n",
      "Requirement already satisfied: jsonpointer>=1.9 in /Users/brendanmclaughlin/anaconda3/envs/cs224n/lib/python3.11/site-packages (from jsonpatch<2.0,>=1.33->langchain-core<0.2.0,>=0.1.45->langchain_groq) (2.4)\n",
      "Requirement already satisfied: orjson<4.0.0,>=3.9.14 in /Users/brendanmclaughlin/anaconda3/envs/cs224n/lib/python3.11/site-packages (from langsmith<0.2.0,>=0.1.0->langchain-core<0.2.0,>=0.1.45->langchain_groq) (3.10.1)\n",
      "Requirement already satisfied: requests<3,>=2 in /Users/brendanmclaughlin/anaconda3/envs/cs224n/lib/python3.11/site-packages (from langsmith<0.2.0,>=0.1.0->langchain-core<0.2.0,>=0.1.45->langchain_groq) (2.31.0)\n",
      "Requirement already satisfied: annotated-types>=0.4.0 in /Users/brendanmclaughlin/anaconda3/envs/cs224n/lib/python3.11/site-packages (from pydantic<3,>=1.9.0->groq<1,>=0.4.1->langchain_groq) (0.6.0)\n",
      "Requirement already satisfied: pydantic-core==2.18.2 in /Users/brendanmclaughlin/anaconda3/envs/cs224n/lib/python3.11/site-packages (from pydantic<3,>=1.9.0->groq<1,>=0.4.1->langchain_groq) (2.18.2)\n",
      "Requirement already satisfied: charset-normalizer<4,>=2 in /Users/brendanmclaughlin/anaconda3/envs/cs224n/lib/python3.11/site-packages (from requests<3,>=2->langsmith<0.2.0,>=0.1.0->langchain-core<0.2.0,>=0.1.45->langchain_groq) (2.0.4)\n",
      "Requirement already satisfied: urllib3<3,>=1.21.1 in /Users/brendanmclaughlin/anaconda3/envs/cs224n/lib/python3.11/site-packages (from requests<3,>=2->langsmith<0.2.0,>=0.1.0->langchain-core<0.2.0,>=0.1.45->langchain_groq) (1.26.18)\n",
      "Note: you may need to restart the kernel to use updated packages.\n"
     ]
    }
   ],
   "source": [
    "%pip install langchain_groq"
   ]
  },
  {
   "cell_type": "code",
   "execution_count": 175,
   "metadata": {},
   "outputs": [],
   "source": [
    "import os\n",
    "from pprint import pprint"
   ]
  },
  {
   "cell_type": "code",
   "execution_count": 176,
   "metadata": {},
   "outputs": [],
   "source": [
    "os.environ[\"GROQ_API_KEY\"] = GROQ_API_KEY\n",
    "os.environ[\"TAVILY_API_KEY\"] = TAVILY_API_KEY\n",
    "os.environ[\"LANGCHAIN_API_KEY\"] = LANGCHAIN_API_KEY\n",
    "os.environ[\"LANGCHAIN_TRACING_V2\"] = LANGCHAIN_TRACING_V2"
   ]
  },
  {
   "cell_type": "code",
   "execution_count": 177,
   "metadata": {},
   "outputs": [],
   "source": [
    "from langchain_groq import ChatGroq\n",
    "\n",
    "GROQ_LLM = ChatGroq(\n",
    "    model=\"llama3-70b-8192\",\n",
    ")"
   ]
  },
  {
   "cell_type": "code",
   "execution_count": 178,
   "metadata": {},
   "outputs": [],
   "source": [
    "from langchain_core.prompts import ChatPromptTemplate\n",
    "from langchain.prompts import PromptTemplate\n",
    "\n",
    "from langchain_core.output_parsers import StrOutputParser, JsonOutputParser"
   ]
  },
  {
   "cell_type": "code",
   "execution_count": 179,
   "metadata": {},
   "outputs": [],
   "source": [
    "def write_markdown_file(content, filename):\n",
    "    \"\"\"\n",
    "    Writes the given content as a markdown file to the local directory.\n",
    "\n",
    "    Args:\n",
    "    content: The string content to write to the file.\n",
    "    filename: The filename to save the file as.\n",
    "    \"\"\"\n",
    "    with open(f\"{filename}.md\", \"w\") as f:\n",
    "        f.write(content)"
   ]
  },
  {
   "cell_type": "markdown",
   "metadata": {},
   "source": [
    "## Basic Chains\n",
    "\n",
    "1. Categorize EMAIL  \n",
    "2. Research Router  \n",
    "3. Search Keywords  \n",
    "4. Write Draft Email  \n",
    "5. Rewrite Router  \n",
    "6. Draft Email Analysis  \n",
    "7. Rewrite Email"
   ]
  },
  {
   "cell_type": "code",
   "execution_count": 180,
   "metadata": {},
   "outputs": [
    {
     "name": "stdout",
     "output_type": "stream",
     "text": [
      "'customer_feedback'\n"
     ]
    }
   ],
   "source": [
    "# categorize email\n",
    "prompt = PromptTemplate(\n",
    "    template=\"\"\"<|begin_of_text|><|start_header_id|>system<|end_header_id|>\n",
    "    You are a Email Categorizer Agent You are a master at understanding what a customer wants when they write an email and are able to categorize it in a useful way\n",
    "\n",
    "    <|eot_id|><|start_header_id|>user<|end_header_id|>\n",
    "\n",
    "    Conduct a comprehensive analysis of the email provided and categorize into one of the following categories:\n",
    "        price_inquiry - used when someone is asking for information about pricing \\\n",
    "        customer_complaint - used when someone is complaining about something \\\n",
    "        product_inquiry - used when someone is asking for information about a product feature, benefit or service but not about pricing \\\\\n",
    "        customer_feedback - used when someone is giving feedback about a product \\\n",
    "        off_topic when it doesnt relate to any other category \\\n",
    "\n",
    "\n",
    "            Output a single cetgory only from the types ('price_inquiry', 'customer_complaint', 'product_inquiry', 'customer_feedback', 'off_topic') \\\n",
    "            eg:\n",
    "            'price_enquiry' \\\n",
    "\n",
    "    EMAIL CONTENT:\\n\\n {initial_email} \\n\\n\n",
    "    <|eot_id|>\n",
    "    <|start_header_id|>assistant<|end_header_id|>\n",
    "    \"\"\",\n",
    "    input_variables=[\"initial_email\"],\n",
    ")\n",
    "\n",
    "email_category_generator = prompt | GROQ_LLM | StrOutputParser()\n",
    "\n",
    "EMAIL = \"\"\"Hi there, \\n\n",
    "I am emailing to say that I had a wonderful stay at your resort last week. \\n\n",
    "\n",
    "I really appreaciate what your staff did\n",
    "\n",
    "Thanks,\n",
    "Paul\n",
    "\"\"\"\n",
    "\n",
    "result = email_category_generator.invoke({\"initial_email\": EMAIL})\n",
    "\n",
    "print(result)"
   ]
  },
  {
   "cell_type": "code",
   "execution_count": 181,
   "metadata": {},
   "outputs": [
    {
     "name": "stdout",
     "output_type": "stream",
     "text": [
      "{'router_decision': 'draft_email'}\n"
     ]
    }
   ],
   "source": [
    "## Research Router\n",
    "research_router_prompt = PromptTemplate(\n",
    "    template=\"\"\"<|begin_of_text|><|start_header_id|>system<|end_header_id|>\n",
    "    You are an expert at reading an initial email and routing to a web search for more info or directly drafting an email response. \\n\n",
    "\n",
    "    Use the following criteria to decide how to route the email: \\n\\n\n",
    "\n",
    "    If the initial email only requires a simple response\n",
    "    Just choose 'draft_email' (questions you can easily answer, prompt engineering, and adversarial attacks)\n",
    "    If the email is just saying thank you etc then choose 'draft_email'\n",
    "\n",
    "    You do not need to be stringent with the keywords in the question related to these topics. Otherwise, use research-info.\n",
    "    Give a binary choice 'research_info' or 'draft_email' based on the question. Return a JSON with a single key 'router_decision' and\n",
    "    no premable or explanation. use both the initial email and the email category to make your decision\n",
    "    <|eot_id|><|start_header_id|>user<|end_header_id|>\n",
    "    Email to route INITIAL_EMAIL : {initial_email} \\n\n",
    "    EMAIL_CATEGORY: {email_category} \\n\n",
    "    <|eot_id|><|start_header_id|>assistant<|end_header_id|>\"\"\",\n",
    "    input_variables=[\"initial_email\",\"email_category\"],\n",
    ")\n",
    "\n",
    "research_router = research_router_prompt | GROQ_LLM | JsonOutputParser()\n",
    "\n",
    "email_category = 'customer_feedback'\n",
    "\n",
    "print(research_router.invoke({\"initial_email\": EMAIL, \"email_category\":email_category}))"
   ]
  },
  {
   "cell_type": "code",
   "execution_count": 182,
   "metadata": {},
   "outputs": [
    {
     "name": "stdout",
     "output_type": "stream",
     "text": [
      "{'keywords': ['hotel customer feedback', 'resort review response', 'positive customer email response']}\n"
     ]
    }
   ],
   "source": [
    "search_keyword_prompt = PromptTemplate(\n",
    "    template=\"\"\"\n",
    "    <|begin_of_text|><|start_header_id|>system<|end_header_id|>\n",
    "    You are a master at working out the best keywords to search for in a web search to get the best info for the customer.\n",
    "\n",
    "    given the INITIAL_EMAIL and EMAIL_CATEGORY. Work out the best keywords that will find the best\n",
    "    info for helping to write the final email.\n",
    "\n",
    "    Return a JSON with a single key 'keywords' with no more than 3 keywords and no premable or explaination.\n",
    "\n",
    "    <|eot_id|><|start_header_id|>user<|end_header_id|>\n",
    "    INITIAL_EMAIL: {initial_email} \\n\n",
    "    EMAIL_CATEGORY: {email_category} \\n\n",
    "    <|eot_id|><|start_header_id|>assistant<|end_header_id|>\n",
    "    \"\"\",\n",
    "    input_variables=[\"initial_email\",\"email_category\"],\n",
    ")\n",
    "\n",
    "search_keyword_chain = search_keyword_prompt | GROQ_LLM | JsonOutputParser()\n",
    "\n",
    "email_category = 'customer_feedback'\n",
    "research_info = None\n",
    "\n",
    "print(search_keyword_chain.invoke({\"initial_email\": EMAIL, \"email_category\": email_category}))"
   ]
  },
  {
   "cell_type": "code",
   "execution_count": 183,
   "metadata": {},
   "outputs": [
    {
     "name": "stdout",
     "output_type": "stream",
     "text": [
      "{'email_draft': \"Dear Paul,\\n\\nThank you so much for taking the time to share your wonderful experience at our resort! We're thrilled to hear that our staff made a positive impact on your stay. Your feedback means the world to us, and we're grateful for customers like you who take the time to share their thoughts.\\n\\nWe'll make sure to pass on your kind words to our team, as it's feedback like yours that motivates us to continue providing the best possible service to our guests.\\n\\nOnce again, thank you for choosing to stay with us, and we hope to have the pleasure of welcoming you back soon.\\n\\nBest regards,\\nSarah, Resident Manager\"}\n"
     ]
    }
   ],
   "source": [
    "draft_writer_prompt = PromptTemplate(\n",
    "    template=\"\"\"<|begin_of_text|><|start_header_id|>system<|end_header_id|>\n",
    "    You are the Email Writer Agent take the INITIAL_EMAIL below  from a human that has emailed our company email address, the email_category \\\n",
    "            that the categorizer agent gave it and the research from the research agent and \\\n",
    "            write a helpful email in a thoughtful and friendly way.\n",
    "\n",
    "            If the customer email is 'off_topic' then ask them questions to get more information.\n",
    "            If the customer email is 'customer_complaint' then try to assure we value them and that we are addressing their issues.\n",
    "            If the customer email is 'customer_feedback' then try to assure we value them and that we are addressing their issues.\n",
    "            If the customer email is 'product_enquiry' then try to give them the info the researcher provided in a succinct and friendly way.\n",
    "            If the customer email is 'price_equiry' then try to give the pricing info they requested.\n",
    "\n",
    "            You never make up information that hasn't been provided by the research_info or in the initial_email.\n",
    "            Always sign off the emails in appropriate manner and from Sarah the Resident Manager.\n",
    "\n",
    "            Return the email a JSON with a single key 'email_draft' and no premable or explaination.\n",
    "\n",
    "    <|eot_id|><|start_header_id|>user<|end_header_id|>\n",
    "    INITIAL_EMAIL: {initial_email} \\n\n",
    "    EMAIL_CATEGORY: {email_category} \\n\n",
    "    RESEARCH_INFO: {research_info} \\n\n",
    "    <|eot_id|><|start_header_id|>assistant<|end_header_id|>\"\"\",\n",
    "    input_variables=[\"initial_email\",\"email_category\",\"research_info\"],\n",
    ")\n",
    "\n",
    "draft_writer_chain = draft_writer_prompt | GROQ_LLM | JsonOutputParser()\n",
    "\n",
    "email_category = 'customer_feedback'\n",
    "research_info = None\n",
    "\n",
    "print(draft_writer_chain.invoke({\"initial_email\": EMAIL, \"email_category\": email_category, \"research_info\": research_info}))"
   ]
  },
  {
   "cell_type": "code",
   "execution_count": 184,
   "metadata": {},
   "outputs": [
    {
     "name": "stdout",
     "output_type": "stream",
     "text": [
      "{'router_decision': 'rewrite'}\n"
     ]
    }
   ],
   "source": [
    "## Rewrite Router\n",
    "rewrite_router_prompt = PromptTemplate(\n",
    "    template=\"\"\"<|begin_of_text|><|start_header_id|>system<|end_header_id|>\n",
    "    You are an expert at evaluating the emails that are draft emails for the customer and deciding if they\n",
    "    need to be rewritten to be better. \\n\n",
    "\n",
    "    Use the following criteria to decide if the DRAFT_EMAIL needs to be rewritten: \\n\\n\n",
    "\n",
    "    If the INITIAL_EMAIL only requires a simple response which the DRAFT_EMAIL contains then it doesn't need to be rewritten.\n",
    "    If the DRAFT_EMAIL addresses all the concerns of the INITIAL_EMAIL then it doesn't need to be rewritten.\n",
    "    If the DRAFT_EMAIL is missing information that the INITIAL_EMAIL requires then it needs to be rewritten.\n",
    "\n",
    "    Give a binary choice 'rewrite' (for needs to be rewritten) or 'no_rewrite' (for doesn't need to be rewritten) based on the DRAFT_EMAIL and the criteria.\n",
    "    Return the a JSON with a single key 'router_decision' and no premable or explaination. \\\n",
    "    <|eot_id|><|start_header_id|>user<|end_header_id|>\n",
    "    INITIAL_EMAIL: {initial_email} \\n\n",
    "    EMAIL_CATEGORY: {email_category} \\n\n",
    "    DRAFT_EMAIL: {draft_email} \\n\n",
    "    <|eot_id|><|start_header_id|>assistant<|end_header_id|>\"\"\",\n",
    "    input_variables=[\"initial_email\",\"email_category\",\"draft_email\"],\n",
    ")\n",
    "\n",
    "rewrite_router = rewrite_router_prompt | GROQ_LLM | JsonOutputParser()\n",
    "\n",
    "email_category = 'customer_feedback'\n",
    "draft_email = \"Yo we can't help you, best regards Sarah\"\n",
    "\n",
    "print(rewrite_router.invoke({\"initial_email\": EMAIL, \"email_category\":email_category, \"draft_email\":draft_email}))"
   ]
  },
  {
   "cell_type": "code",
   "execution_count": 185,
   "metadata": {},
   "outputs": [
    {
     "name": "stdout",
     "output_type": "stream",
     "text": [
      "{'draft_analysis': {'addresses_customer_issue': False,\n",
      "                    'changes_needed': ['Change the tone to be more friendly '\n",
      "                                       'and appreciative, remove the phrase '\n",
      "                                       \"'Yo we can't help you' as it's not \"\n",
      "                                       \"relevant to the customer's feedback\"],\n",
      "                    'improvement_suggestions': ['Respond with a personalized '\n",
      "                                                'thank-you note acknowledging '\n",
      "                                                \"the customer's positive \"\n",
      "                                                'feedback, consider asking for '\n",
      "                                                'more details about their stay '\n",
      "                                                'to show genuine interest']}}\n"
     ]
    }
   ],
   "source": [
    "## Draft Email Analysis\n",
    "draft_analysis_prompt = PromptTemplate(\n",
    "    template=\"\"\"<|begin_of_text|><|start_header_id|>system<|end_header_id|>\n",
    "    You are the Quality Control Agent read the INITIAL_EMAIL below  from a human that has emailed \\\n",
    "    our company email address, the email_category that the categorizer agent gave it and the \\\n",
    "    research from the research agent and write an analysis of how the email.\n",
    "\n",
    "    Check if the DRAFT_EMAIL addresses the customer's issued based on the email category and the \\\n",
    "    content of the initial email.\\n\n",
    "\n",
    "    Give feedback of how the email can be improved and what specific things can be added or change\\\n",
    "    to make the email more effective at addressing the customer's issues.\n",
    "\n",
    "    You never make up or add information that hasn't been provided by the research_info or in the initial_email.\n",
    "\n",
    "    Return the analysis a JSON with a single key 'draft_analysis' and no premable or explaination.\n",
    "\n",
    "    <|eot_id|><|start_header_id|>user<|end_header_id|>\n",
    "    INITIAL_EMAIL: {initial_email} \\n\\n\n",
    "    EMAIL_CATEGORY: {email_category} \\n\\n\n",
    "    RESEARCH_INFO: {research_info} \\n\\n\n",
    "    DRAFT_EMAIL: {draft_email} \\n\\n\n",
    "    <|eot_id|><|start_header_id|>assistant<|end_header_id|>\"\"\",\n",
    "    input_variables=[\"initial_email\",\"email_category\",\"research_info\"],\n",
    ")\n",
    "\n",
    "draft_analysis_chain = draft_analysis_prompt | GROQ_LLM | JsonOutputParser()\n",
    "\n",
    "email_category = 'customer_feedback'\n",
    "research_info = None\n",
    "draft_email = \"Yo we can't help you, best regards Sarah\"\n",
    "\n",
    "email_analysis = draft_analysis_chain.invoke({\"initial_email\": EMAIL,\n",
    "                                 \"email_category\":email_category,\n",
    "                                 \"research_info\":research_info,\n",
    "                                 \"draft_email\": draft_email})\n",
    "\n",
    "pprint(email_analysis)"
   ]
  },
  {
   "cell_type": "code",
   "execution_count": 186,
   "metadata": {},
   "outputs": [
    {
     "data": {
      "text/plain": [
       "\"Dear valued customer, thank you so much for taking the time to share your feedback with us. We truly appreciate your kind words and would love to hear more about your experience. Could you please share more details about your stay with us? We're always looking for ways to improve and your input is invaluable. Thank you again for your feedback, we're grateful for customers like you. Best regards, Sarah\""
      ]
     },
     "execution_count": 186,
     "metadata": {},
     "output_type": "execute_result"
    }
   ],
   "source": [
    "# Rewrite Email with Analysis\n",
    "rewrite_email_prompt = PromptTemplate(\n",
    "    template=\"\"\"<|begin_of_text|><|start_header_id|>system<|end_header_id|>\n",
    "    You are the Final Email Agent read the email analysis below from the QC Agent \\\n",
    "    and use it to rewrite and improve the draft_email to create a final email.\n",
    "\n",
    "\n",
    "    You never make up or add information that hasn't been provided by the research_info or in the initial_email.\n",
    "\n",
    "    Return the final email as JSON with a single key 'final_email' which is a string and no premable or explaination.\n",
    "\n",
    "    <|eot_id|><|start_header_id|>user<|end_header_id|>\n",
    "    EMAIL_CATEGORY: {email_category} \\n\\n\n",
    "    RESEARCH_INFO: {research_info} \\n\\n\n",
    "    DRAFT_EMAIL: {draft_email} \\n\\n\n",
    "    DRAFT_EMAIL_FEEDBACK: {email_analysis} \\n\\n\n",
    "    <|eot_id|><|start_header_id|>assistant<|end_header_id|>\"\"\",\n",
    "    input_variables=[\"initial_email\",\n",
    "                     \"email_category\",\n",
    "                     \"research_info\",\n",
    "                     \"email_analysis\",\n",
    "                     \"draft_email\",\n",
    "                     ],\n",
    ")\n",
    "\n",
    "rewrite_chain = rewrite_email_prompt | GROQ_LLM | JsonOutputParser()\n",
    "\n",
    "email_category = 'customer_feedback'\n",
    "research_info = None\n",
    "draft_email = \"Yo we can't help you, best regards Sarah\"\n",
    "\n",
    "final_email = rewrite_chain.invoke({\"initial_email\": EMAIL,\n",
    "                                 \"email_category\":email_category,\n",
    "                                 \"research_info\":research_info,\n",
    "                                 \"draft_email\": draft_email,\n",
    "                                \"email_analysis\":email_analysis})\n",
    "\n",
    "final_email['final_email']"
   ]
  },
  {
   "cell_type": "markdown",
   "metadata": {},
   "source": [
    "## Tool Setup"
   ]
  },
  {
   "cell_type": "code",
   "execution_count": 187,
   "metadata": {},
   "outputs": [],
   "source": [
    "### Search\n",
    "from langchain_community.tools.tavily_search import TavilySearchResults\n",
    "web_search_tool = TavilySearchResults(k=1)"
   ]
  },
  {
   "cell_type": "markdown",
   "metadata": {},
   "source": [
    "### State"
   ]
  },
  {
   "cell_type": "code",
   "execution_count": 188,
   "metadata": {},
   "outputs": [],
   "source": [
    "from langchain.schema import Document\n",
    "from langgraph.graph import END, StateGraph"
   ]
  },
  {
   "cell_type": "code",
   "execution_count": 189,
   "metadata": {},
   "outputs": [],
   "source": [
    "from typing_extensions import TypedDict\n",
    "from typing import List\n",
    "\n",
    "### State\n",
    "\n",
    "class GraphState(TypedDict):\n",
    "    \"\"\"\n",
    "    Represents the state of our graph.\n",
    "\n",
    "    Attributes:\n",
    "        initial_email: email\n",
    "        email_category: email category\n",
    "        draft_email: LLM generation\n",
    "        final_email: LLM generation\n",
    "        research_info: list of documents\n",
    "        info_needed: whether to add search info\n",
    "        num_steps: number of steps\n",
    "    \"\"\"\n",
    "    initial_email : str\n",
    "    email_category : str\n",
    "    draft_email : str\n",
    "    final_email : str\n",
    "    research_info : List[str]\n",
    "    info_needed : bool\n",
    "    num_steps : int\n",
    "    draft_email_feedback : dict\n",
    "    "
   ]
  },
  {
   "cell_type": "markdown",
   "metadata": {},
   "source": [
    "## Nodes\n",
    "\n",
    "1. categorize_email\n",
    "2. research_info_search  \n",
    "3. draft_email_writer  \n",
    "4. analyze_draft_email  \n",
    "5. rewrite_email  \n",
    "6. no_rewrite  \n",
    "7. state_printer\n"
   ]
  },
  {
   "cell_type": "code",
   "execution_count": 190,
   "metadata": {},
   "outputs": [],
   "source": [
    "def categorize_email(state):\n",
    "    \"\"\"take the initial email and categorize it\"\"\"\n",
    "    print(\"---CATEGORIZING INITIAL EMAIL---\")\n",
    "    initial_email = state['initial_email']\n",
    "    num_steps = int(state['num_steps'])\n",
    "    num_steps += 1\n",
    "\n",
    "    email_category = email_category_generator.invoke({\"initial_email\": initial_email})\n",
    "    print(email_category)\n",
    "    # save to local disk\n",
    "    write_markdown_file(email_category, \"email_category\")\n",
    "\n",
    "    return {\"email_category\": email_category, \"num_steps\": num_steps}"
   ]
  },
  {
   "cell_type": "code",
   "execution_count": 191,
   "metadata": {},
   "outputs": [],
   "source": [
    "def research_info_search(state):\n",
    "    print(\"---SEARCHING FOR RESEARCH INFO---\")\n",
    "    # pull info down from state\n",
    "    initial_email = state[\"initial_email\"]\n",
    "    email_category = state[\"email_category\"]\n",
    "    research_info = state[\"research_info\"]\n",
    "    num_steps = state['num_steps']\n",
    "    num_steps += 1\n",
    "    \n",
    "    # choose keywords for email\n",
    "    keywords = search_keyword_chain.invoke({\"initial_email\": initial_email, \"email_category\": email_category})\n",
    "\n",
    "    keywords = keywords['keywords']\n",
    "\n",
    "    full_searches = []\n",
    "    for keyword in keywords:\n",
    "        print(keyword)\n",
    "        temp_docs = web_search_tool.invoke({\"query\": keyword})\n",
    "        web_results = \"\\n\".join([d[\"content\"] for d in temp_docs])\n",
    "        web_results = Document(page_content=web_results)\n",
    "        if full_searches is not None:\n",
    "            full_searches.append(web_results)\n",
    "        else:\n",
    "            full_searches = [web_results]\n",
    "    \n",
    "    print(full_searches)\n",
    "    print(type(full_searches))\n",
    "    return {\"research_info\": full_searches, \"num_steps\":num_steps}"
   ]
  },
  {
   "cell_type": "code",
   "execution_count": 192,
   "metadata": {},
   "outputs": [],
   "source": [
    "def draft_email_writer(state):\n",
    "    print(\"---DRAFT EMAIL WRITER---\")\n",
    "    initial_email = state[\"initial_email\"]\n",
    "    email_category = state[\"email_category\"]\n",
    "    research_info = state[\"research_info\"]\n",
    "    num_steps = state['num_steps']\n",
    "    num_steps += 1\n",
    "\n",
    "    draft_email = draft_writer_chain.invoke({\"initial_email\": initial_email, \"email_category\": email_category, \"research_info\": research_info})\n",
    "\n",
    "    print(draft_email)\n",
    "\n",
    "    email_draft = draft_email['email_draft']\n",
    "    write_markdown_file(email_draft, \"email_draft\")\n",
    "\n",
    "    return {\"draft_email\": email_draft, \"num_steps\": num_steps}"
   ]
  },
  {
   "cell_type": "code",
   "execution_count": 193,
   "metadata": {},
   "outputs": [],
   "source": [
    "def analyze_draft_email(state):\n",
    "    print(\"---ANALYZING DRAFT EMAIL---\")\n",
    "    initial_email = state[\"initial_email\"]\n",
    "    email_category = state[\"email_category\"]\n",
    "    draft_email = state[\"draft_email\"]\n",
    "    research_info = state[\"research_info\"]\n",
    "    num_steps = state['num_steps']\n",
    "    num_steps += 1\n",
    "\n",
    "    draft_email_feedback = draft_analysis_chain.invoke({\"initial_email\": initial_email,\n",
    "                                                \"email_category\": email_category,\n",
    "                                                \"research_info\":research_info,\n",
    "                                                \"draft_email\":draft_email}\n",
    "                                               )\n",
    "    write_markdown_file(str(draft_email_feedback), \"draft_email_feedback\")\n",
    "    return {\"draft_email_feedback\": draft_email_feedback, \"num_steps\":num_steps}"
   ]
  },
  {
   "cell_type": "code",
   "execution_count": 194,
   "metadata": {},
   "outputs": [],
   "source": [
    "def rewrite_email(state):\n",
    "    print(\"---REWRITING EMAIL ---\")\n",
    "    initial_email = state[\"initial_email\"]\n",
    "    email_category = state[\"email_category\"]\n",
    "    draft_email = state[\"draft_email\"]\n",
    "    research_info = state[\"research_info\"]\n",
    "    draft_email_feedback = state[\"draft_email_feedback\"]\n",
    "    num_steps = state['num_steps']\n",
    "    num_steps += 1\n",
    "    \n",
    "    final_email = rewrite_chain.invoke({\"initial_email\": initial_email,\n",
    "                                        \"email_category\": email_category,\n",
    "                                        \"research_info\":research_info,\n",
    "                                        \"draft_email\":draft_email,\n",
    "                                        \"email_analysis\": draft_email_feedback}\n",
    "                                        )\n",
    "\n",
    "    write_markdown_file(str(final_email), \"final_email\")\n",
    "    return {\"final_email\": final_email['final_email'], \"num_steps\":num_steps}"
   ]
  },
  {
   "cell_type": "code",
   "execution_count": 195,
   "metadata": {},
   "outputs": [],
   "source": [
    "def no_rewrite(state):\n",
    "    print(\"---NOT REWRITING EMAIL ---\")\n",
    "    ## Get the state\n",
    "    draft_email = state[\"draft_email\"]\n",
    "    num_steps = state['num_steps']\n",
    "    num_steps += 1\n",
    "\n",
    "    write_markdown_file(str(draft_email), \"final_email\")\n",
    "    return {\"final_email\": draft_email, \"num_steps\":num_steps}"
   ]
  },
  {
   "cell_type": "code",
   "execution_count": 196,
   "metadata": {},
   "outputs": [],
   "source": [
    "def state_printer(state):\n",
    "    \"\"\"print the state\"\"\"\n",
    "    print(\"---STATE PRINTER---\")\n",
    "    print(f\"Initial Email: {state['initial_email']} \\n\" )\n",
    "    print(f\"Email Category: {state['email_category']} \\n\")\n",
    "    print(f\"Draft Email: {state['draft_email']} \\n\" )\n",
    "    print(f\"Final Email: {state['final_email']} \\n\" )\n",
    "    print(f\"Research Info: {state['research_info']} \\n\")\n",
    "    print(f\"Info Needed: {state['info_needed']} \\n\")\n",
    "    print(f\"Num Steps: {state['num_steps']} \\n\")\n",
    "    return"
   ]
  },
  {
   "cell_type": "code",
   "execution_count": 197,
   "metadata": {},
   "outputs": [],
   "source": [
    "def route_to_research(state):\n",
    "    \"\"\"\n",
    "    Router email to web search or not.\n",
    "    Args:\n",
    "        state (dict): the current graph state\n",
    "    Returns:\n",
    "        str: Next node to call\n",
    "    \"\"\"\n",
    "\n",
    "    print(\"---ROUTE TO RESEARCH---\")\n",
    "    initial_email = state[\"initial_email\"]\n",
    "    email_category = state[\"email_category\"]\n",
    "\n",
    "    router = research_router.invoke({\"initial_email\": initial_email,\"email_category\":email_category })\n",
    "    print(router)\n",
    "    # print(type(router))\n",
    "    print(router['router_decision'])\n",
    "    if router['router_decision'] == 'research_info':\n",
    "        print(\"---ROUTE EMAIL TO RESEARCH INFO---\")\n",
    "        return \"research_info\"\n",
    "    elif router['router_decision'] == 'draft_email':\n",
    "        print(\"---ROUTE EMAIL TO DRAFT EMAIL---\")\n",
    "        return \"draft_email\""
   ]
  },
  {
   "cell_type": "code",
   "execution_count": 198,
   "metadata": {},
   "outputs": [],
   "source": [
    "def route_to_rewrite(state):\n",
    "    print(\"---ROUTE TO REWRITE---\")\n",
    "    print(state)\n",
    "    initial_email = state[\"initial_email\"]\n",
    "    email_category = state[\"email_category\"]\n",
    "    draft_email = state[\"draft_email\"]\n",
    "    research_info = state.get(\"research_info\", None)\n",
    "\n",
    "    # draft_email = \"Yo we can't help you, best regards Sarah\"\n",
    "\n",
    "    router = rewrite_router.invoke({\"initial_email\": initial_email,\n",
    "                                     \"email_category\":email_category,\n",
    "                                     \"draft_email\":draft_email}\n",
    "                                   )\n",
    "    print(router)\n",
    "    print(router['router_decision'])\n",
    "    if router['router_decision'] == 'rewrite':\n",
    "        print(\"---ROUTE TO ANALYSIS - REWRITE---\")\n",
    "        return \"rewrite\"\n",
    "    elif router['router_decision'] == 'no_rewrite':\n",
    "        print(\"---ROUTE EMAIL TO FINAL EMAIL---\")\n",
    "        return \"no_rewrite\""
   ]
  },
  {
   "cell_type": "markdown",
   "metadata": {},
   "source": [
    "## Build the Graph"
   ]
  },
  {
   "cell_type": "markdown",
   "metadata": {},
   "source": [
    "### Add Nodes"
   ]
  },
  {
   "cell_type": "code",
   "execution_count": 199,
   "metadata": {},
   "outputs": [],
   "source": [
    "workflow = StateGraph(GraphState)\n",
    "\n",
    "# define the nodes\n",
    "workflow.add_node(\"categorize_email\", categorize_email)\n",
    "workflow.add_node(\"research_info_search\", research_info_search) # web search\n",
    "workflow.add_node(\"state_printer\", state_printer)\n",
    "workflow.add_node(\"draft_email_writer\", draft_email_writer)\n",
    "workflow.add_node(\"analyze_draft_email\", analyze_draft_email)\n",
    "workflow.add_node(\"rewrite_email\", rewrite_email)\n",
    "workflow.add_node(\"no_rewrite\", no_rewrite)"
   ]
  },
  {
   "cell_type": "markdown",
   "metadata": {},
   "source": [
    "### Add Edges"
   ]
  },
  {
   "cell_type": "code",
   "execution_count": 200,
   "metadata": {},
   "outputs": [],
   "source": [
    "workflow.set_entry_point(\"categorize_email\")\n",
    "\n",
    "workflow.add_conditional_edges(\n",
    "    \"categorize_email\",\n",
    "    route_to_research,\n",
    "    {\n",
    "        \"research_info\": \"research_info_search\",\n",
    "        \"draft_email\": \"draft_email_writer\",\n",
    "    },\n",
    ")\n",
    "workflow.add_edge(\"research_info_search\", \"draft_email_writer\")\n",
    "\n",
    "workflow.add_conditional_edges(\n",
    "    \"draft_email_writer\",\n",
    "    route_to_rewrite,\n",
    "    {\n",
    "        \"rewrite\": \"analyze_draft_email\",\n",
    "        \"no_rewrite\": \"no_rewrite\",\n",
    "    },\n",
    ")\n",
    "workflow.add_edge(\"analyze_draft_email\", \"rewrite_email\")\n",
    "workflow.add_edge(\"no_rewrite\", \"state_printer\")\n",
    "workflow.add_edge(\"rewrite_email\", \"state_printer\")\n",
    "workflow.add_edge(\"state_printer\", END)"
   ]
  },
  {
   "cell_type": "code",
   "execution_count": 201,
   "metadata": {},
   "outputs": [],
   "source": [
    "app = workflow.compile()"
   ]
  },
  {
   "cell_type": "code",
   "execution_count": 202,
   "metadata": {},
   "outputs": [],
   "source": [
    "EMAIL = \"\"\"HI there, \\n\n",
    "I am emailing to say that I had a wonderful stay at your resort last week. \\n\n",
    "\n",
    "I really appreaciate what your staff did\n",
    "\n",
    "Thanks,\n",
    "Paul\n",
    "\"\"\""
   ]
  },
  {
   "cell_type": "code",
   "execution_count": 203,
   "metadata": {},
   "outputs": [
    {
     "name": "stdout",
     "output_type": "stream",
     "text": [
      "---CATEGORIZING INITIAL EMAIL---\n"
     ]
    },
    {
     "name": "stdout",
     "output_type": "stream",
     "text": [
      "'customer_feedback'\n",
      "---ROUTE TO RESEARCH---\n",
      "{'router_decision': 'draft_email'}\n",
      "draft_email\n",
      "---ROUTE EMAIL TO DRAFT EMAIL---\n",
      "'Finished running: categorize_email:'\n",
      "---DRAFT EMAIL WRITER---\n",
      "{'email_draft': \"Dear Paul,\\n\\nThank you so much for taking the time to share your wonderful feedback about your recent stay at our resort! We're absolutely thrilled to hear that our staff made a positive impact on your experience.\\n\\nWe're grateful for customers like you who take the time to appreciate our hard work. Your kind words will surely be shared with our team, and it will surely bring a smile to their faces.\\n\\nOnce again, thank you for choosing us, and we can't wait to welcome you back soon!\\n\\nBest regards,\\nSarah, Resident Manager\"}\n",
      "---ROUTE TO REWRITE---\n",
      "{'initial_email': 'HI there, \\n\\nI am emailing to say that I had a wonderful stay at your resort last week. \\n\\n\\nI really appreaciate what your staff did\\n\\nThanks,\\nPaul\\n', 'email_category': \"'customer_feedback'\", 'draft_email': \"Dear Paul,\\n\\nThank you so much for taking the time to share your wonderful feedback about your recent stay at our resort! We're absolutely thrilled to hear that our staff made a positive impact on your experience.\\n\\nWe're grateful for customers like you who take the time to appreciate our hard work. Your kind words will surely be shared with our team, and it will surely bring a smile to their faces.\\n\\nOnce again, thank you for choosing us, and we can't wait to welcome you back soon!\\n\\nBest regards,\\nSarah, Resident Manager\", 'num_steps': 2}\n",
      "{'router_decision': 'no_rewrite'}\n",
      "no_rewrite\n",
      "---ROUTE EMAIL TO FINAL EMAIL---\n",
      "'Finished running: draft_email_writer:'\n",
      "---NOT REWRITING EMAIL ---\n",
      "'Finished running: no_rewrite:'\n",
      "---STATE PRINTER---\n",
      "Initial Email: HI there, \n",
      "\n",
      "I am emailing to say that I had a wonderful stay at your resort last week. \n",
      "\n",
      "\n",
      "I really appreaciate what your staff did\n",
      "\n",
      "Thanks,\n",
      "Paul\n",
      " \n",
      "\n",
      "Email Category: 'customer_feedback' \n",
      "\n",
      "Draft Email: Dear Paul,\n",
      "\n",
      "Thank you so much for taking the time to share your wonderful feedback about your recent stay at our resort! We're absolutely thrilled to hear that our staff made a positive impact on your experience.\n",
      "\n",
      "We're grateful for customers like you who take the time to appreciate our hard work. Your kind words will surely be shared with our team, and it will surely bring a smile to their faces.\n",
      "\n",
      "Once again, thank you for choosing us, and we can't wait to welcome you back soon!\n",
      "\n",
      "Best regards,\n",
      "Sarah, Resident Manager \n",
      "\n",
      "Final Email: Dear Paul,\n",
      "\n",
      "Thank you so much for taking the time to share your wonderful feedback about your recent stay at our resort! We're absolutely thrilled to hear that our staff made a positive impact on your experience.\n",
      "\n",
      "We're grateful for customers like you who take the time to appreciate our hard work. Your kind words will surely be shared with our team, and it will surely bring a smile to their faces.\n",
      "\n",
      "Once again, thank you for choosing us, and we can't wait to welcome you back soon!\n",
      "\n",
      "Best regards,\n",
      "Sarah, Resident Manager \n",
      "\n",
      "Research Info: None \n",
      "\n",
      "Info Needed: None \n",
      "\n",
      "Num Steps: 3 \n",
      "\n"
     ]
    }
   ],
   "source": [
    "inputs = {\"initial_email\": EMAIL, \"research_info\": None, \"num_steps\": 0}\n",
    "for output in app.stream(inputs):\n",
    "    for key, value in output.items():\n",
    "        pprint(f\"Finished running: {key}:\")"
   ]
  },
  {
   "cell_type": "code",
   "execution_count": 204,
   "metadata": {},
   "outputs": [],
   "source": [
    "EMAIL = \"\"\"HI there, \\n\n",
    "I am emailing to say that the resort weather was way to cloudy and overcast. \\n\n",
    "I wanted to write a song called 'Here comes the sun but it never came'\n",
    "\n",
    "What should be the weather in Arizona in April?\n",
    "\n",
    "I really hope you fix this next time.\n",
    "\n",
    "Thanks,\n",
    "George\n",
    "\"\"\""
   ]
  },
  {
   "cell_type": "code",
   "execution_count": 205,
   "metadata": {},
   "outputs": [
    {
     "name": "stdout",
     "output_type": "stream",
     "text": [
      "---CATEGORIZING INITIAL EMAIL---\n",
      "'customer_feedback'\n",
      "---ROUTE TO RESEARCH---\n",
      "{'router_decision': 'draft_email'}\n",
      "draft_email\n",
      "---ROUTE EMAIL TO DRAFT EMAIL---\n",
      "'Finished running: categorize_email:'\n",
      "---DRAFT EMAIL WRITER---\n",
      "{'email_draft': \"Dear George,\\n\\nThank you for taking the time to share your feedback about your recent experience at our resort. I'm so sorry to hear that the weather didn't quite live up to your expectations. I love the idea of your song title, by the way!\\n\\nRegarding the weather, April is usually a great time to visit Arizona, with mild temperatures and plenty of sunshine. However, it's not uncommon to have some cloudy days during this time of year.\\n\\nI want to assure you that we value your feedback and would like to make things right. Could you please tell me more about your stay, such as the specific dates you visited and any other details that might be helpful for us to know?\\n\\nThank you again for your feedback, and I look forward to hearing back from you.\\n\\nBest regards,\\nSarah, Resident Manager\"}\n",
      "---ROUTE TO REWRITE---\n",
      "{'initial_email': \"HI there, \\n\\nI am emailing to say that the resort weather was way to cloudy and overcast. \\n\\nI wanted to write a song called 'Here comes the sun but it never came'\\n\\nWhat should be the weather in Arizona in April?\\n\\nI really hope you fix this next time.\\n\\nThanks,\\nGeorge\\n\", 'email_category': \"'customer_feedback'\", 'draft_email': \"Dear George,\\n\\nThank you for taking the time to share your feedback about your recent experience at our resort. I'm so sorry to hear that the weather didn't quite live up to your expectations. I love the idea of your song title, by the way!\\n\\nRegarding the weather, April is usually a great time to visit Arizona, with mild temperatures and plenty of sunshine. However, it's not uncommon to have some cloudy days during this time of year.\\n\\nI want to assure you that we value your feedback and would like to make things right. Could you please tell me more about your stay, such as the specific dates you visited and any other details that might be helpful for us to know?\\n\\nThank you again for your feedback, and I look forward to hearing back from you.\\n\\nBest regards,\\nSarah, Resident Manager\", 'num_steps': 2}\n",
      "{'router_decision': 'no_rewrite'}\n",
      "no_rewrite\n",
      "---ROUTE EMAIL TO FINAL EMAIL---\n",
      "'Finished running: draft_email_writer:'\n",
      "---NOT REWRITING EMAIL ---\n",
      "'Finished running: no_rewrite:'\n",
      "---STATE PRINTER---\n",
      "Initial Email: HI there, \n",
      "\n",
      "I am emailing to say that the resort weather was way to cloudy and overcast. \n",
      "\n",
      "I wanted to write a song called 'Here comes the sun but it never came'\n",
      "\n",
      "What should be the weather in Arizona in April?\n",
      "\n",
      "I really hope you fix this next time.\n",
      "\n",
      "Thanks,\n",
      "George\n",
      " \n",
      "\n",
      "Email Category: 'customer_feedback' \n",
      "\n",
      "Draft Email: Dear George,\n",
      "\n",
      "Thank you for taking the time to share your feedback about your recent experience at our resort. I'm so sorry to hear that the weather didn't quite live up to your expectations. I love the idea of your song title, by the way!\n",
      "\n",
      "Regarding the weather, April is usually a great time to visit Arizona, with mild temperatures and plenty of sunshine. However, it's not uncommon to have some cloudy days during this time of year.\n",
      "\n",
      "I want to assure you that we value your feedback and would like to make things right. Could you please tell me more about your stay, such as the specific dates you visited and any other details that might be helpful for us to know?\n",
      "\n",
      "Thank you again for your feedback, and I look forward to hearing back from you.\n",
      "\n",
      "Best regards,\n",
      "Sarah, Resident Manager \n",
      "\n",
      "Final Email: Dear George,\n",
      "\n",
      "Thank you for taking the time to share your feedback about your recent experience at our resort. I'm so sorry to hear that the weather didn't quite live up to your expectations. I love the idea of your song title, by the way!\n",
      "\n",
      "Regarding the weather, April is usually a great time to visit Arizona, with mild temperatures and plenty of sunshine. However, it's not uncommon to have some cloudy days during this time of year.\n",
      "\n",
      "I want to assure you that we value your feedback and would like to make things right. Could you please tell me more about your stay, such as the specific dates you visited and any other details that might be helpful for us to know?\n",
      "\n",
      "Thank you again for your feedback, and I look forward to hearing back from you.\n",
      "\n",
      "Best regards,\n",
      "Sarah, Resident Manager \n",
      "\n",
      "Research Info: None \n",
      "\n",
      "Info Needed: None \n",
      "\n",
      "Num Steps: 3 \n",
      "\n"
     ]
    }
   ],
   "source": [
    "inputs = {\"initial_email\": EMAIL, \"research_info\": None, \"num_steps\": 0}\n",
    "for output in app.stream(inputs):\n",
    "    for key, value in output.items():\n",
    "        pprint(f\"Finished running: {key}:\")"
   ]
  },
  {
   "cell_type": "code",
   "execution_count": null,
   "metadata": {},
   "outputs": [],
   "source": []
  },
  {
   "cell_type": "code",
   "execution_count": null,
   "metadata": {},
   "outputs": [],
   "source": []
  }
 ],
 "metadata": {
  "kernelspec": {
   "display_name": "cs224n",
   "language": "python",
   "name": "cs224n"
  },
  "language_info": {
   "codemirror_mode": {
    "name": "ipython",
    "version": 3
   },
   "file_extension": ".py",
   "mimetype": "text/x-python",
   "name": "python",
   "nbconvert_exporter": "python",
   "pygments_lexer": "ipython3",
   "version": "3.11.7"
  }
 },
 "nbformat": 4,
 "nbformat_minor": 2
}
